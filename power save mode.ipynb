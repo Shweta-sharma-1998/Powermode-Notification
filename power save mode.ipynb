{
 "cells": [
  {
   "cell_type": "code",
   "execution_count": 2,
   "id": "a9390f09",
   "metadata": {},
   "outputs": [
    {
     "name": "stdout",
     "output_type": "stream",
     "text": [
      "Requirement already satisfied: psutil in c:\\users\\shweta sharma\\appdata\\local\\programs\\python\\python310\\lib\\site-packages (5.9.0)\n"
     ]
    },
    {
     "name": "stderr",
     "output_type": "stream",
     "text": [
      "WARNING: You are using pip version 21.2.4; however, version 22.0.4 is available.\n",
      "You should consider upgrading via the 'C:\\Users\\shweta sharma\\AppData\\Local\\Programs\\Python\\Python310\\python.exe -m pip install --upgrade pip' command.\n"
     ]
    }
   ],
   "source": [
    "!pip install psutil"
   ]
  },
  {
   "cell_type": "code",
   "execution_count": 3,
   "id": "989f7f5a",
   "metadata": {},
   "outputs": [
    {
     "name": "stdout",
     "output_type": "stream",
     "text": [
      "Collecting plyer\n",
      "  Downloading plyer-2.0.0-py2.py3-none-any.whl (131 kB)\n",
      "Installing collected packages: plyer\n",
      "Successfully installed plyer-2.0.0\n"
     ]
    },
    {
     "name": "stderr",
     "output_type": "stream",
     "text": [
      "WARNING: You are using pip version 21.2.4; however, version 22.0.4 is available.\n",
      "You should consider upgrading via the 'C:\\Users\\shweta sharma\\AppData\\Local\\Programs\\Python\\Python310\\python.exe -m pip install --upgrade pip' command.\n"
     ]
    }
   ],
   "source": [
    "!pip install plyer"
   ]
  },
  {
   "cell_type": "code",
   "execution_count": 4,
   "id": "213d7d59",
   "metadata": {},
   "outputs": [
    {
     "name": "stdout",
     "output_type": "stream",
     "text": [
      "Collecting screen_brightness_control\n",
      "  Downloading screen_brightness_control-0.12.0-py3-none-any.whl (26 kB)\n",
      "Collecting wmi\n",
      "  Downloading WMI-1.5.1-py2.py3-none-any.whl (28 kB)\n",
      "Requirement already satisfied: pywin32 in c:\\users\\shweta sharma\\appdata\\local\\programs\\python\\python310\\lib\\site-packages (from wmi->screen_brightness_control) (303)\n",
      "Installing collected packages: wmi, screen-brightness-control\n",
      "Successfully installed screen-brightness-control-0.12.0 wmi-1.5.1\n"
     ]
    },
    {
     "name": "stderr",
     "output_type": "stream",
     "text": [
      "WARNING: You are using pip version 21.2.4; however, version 22.0.4 is available.\n",
      "You should consider upgrading via the 'C:\\Users\\shweta sharma\\AppData\\Local\\Programs\\Python\\Python310\\python.exe -m pip install --upgrade pip' command.\n"
     ]
    }
   ],
   "source": [
    "!pip install screen_brightness_control"
   ]
  },
  {
   "cell_type": "code",
   "execution_count": 5,
   "id": "de438380",
   "metadata": {},
   "outputs": [],
   "source": [
    "import plyer\n",
    "from plyer import notification\n",
    "import psutil\n",
    "import screen_brightness_control as sbc"
   ]
  },
  {
   "cell_type": "code",
   "execution_count": 15,
   "id": "2fff51ef",
   "metadata": {},
   "outputs": [
    {
     "data": {
      "text/plain": [
       "5.5"
      ]
     },
     "execution_count": 15,
     "metadata": {},
     "output_type": "execute_result"
    }
   ],
   "source": [
    "CPU= psutil.cpu_percent()\n",
    "CPU"
   ]
  },
  {
   "cell_type": "code",
   "execution_count": 17,
   "id": "981d6f5b",
   "metadata": {},
   "outputs": [],
   "source": [
    "import plyer\n",
    "from plyer import notification\n",
    "import psutil\n",
    "import screen_brightness_control as sbc\n",
    "\n",
    "\n",
    "\n",
    "\n",
    "battery= psutil.sensors_battery().percent\n",
    "power= psutil.sensors_battery().power_plugged\n",
    "brightness= sbc.get_brightness()\n",
    "\n",
    "\n",
    "if battery< 80 and power==False:\n",
    "    CPU= psutil.cpu_percent()\n",
    "    if (CPU> 50 and brightness>50):\n",
    "        notification.notify(title= \"POWER MODES\", \n",
    "                            message= str(battery)+\"battery\\n\"+str(CPU)+\n",
    "                            \"CPU_USAGE\\n\"+str(brightness)+\"BRIGHTNESS\\n\"+\"need to on power mode\")\n",
    "    else:\n",
    "                            notification.notify(title=\"POWER MODES\", message= str(battery)+\"battery\\n\"+str(CPU)+\n",
    "                            \"CPU_USAGE\\n\"+str(brightness)+\"BRIGHTNESS\\n\"+ \" no need to on power mode\")\n",
    "elif power== True:\n",
    "                            notification.notify(title=\"POWER MODES\", message=\" power plug is connected\")\n",
    "else:\n",
    "                            print(\"everything is fine\")"
   ]
  },
  {
   "cell_type": "code",
   "execution_count": null,
   "id": "a9e234a2",
   "metadata": {},
   "outputs": [],
   "source": []
  }
 ],
 "metadata": {
  "kernelspec": {
   "display_name": "Python 3 (ipykernel)",
   "language": "python",
   "name": "python3"
  },
  "language_info": {
   "codemirror_mode": {
    "name": "ipython",
    "version": 3
   },
   "file_extension": ".py",
   "mimetype": "text/x-python",
   "name": "python",
   "nbconvert_exporter": "python",
   "pygments_lexer": "ipython3",
   "version": "3.10.1"
  }
 },
 "nbformat": 4,
 "nbformat_minor": 5
}
